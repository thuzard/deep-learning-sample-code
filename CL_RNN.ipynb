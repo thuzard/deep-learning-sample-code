{
 "cells": [
  {
   "cell_type": "code",
   "execution_count": 1,
   "metadata": {
    "collapsed": true
   },
   "outputs": [],
   "source": [
    "import tensorflow as tf\n",
    "import numpy as np\n",
    "import pandas as pd\n",
    "import matplotlib.pyplot as plt\n",
    "\n",
    "from datetime import datetime"
   ]
  },
  {
   "cell_type": "markdown",
   "metadata": {},
   "source": [
    "# Import Data and Standard Scale# "
   ]
  },
  {
   "cell_type": "code",
   "execution_count": 2,
   "metadata": {},
   "outputs": [],
   "source": [
    "data = pd.read_csv(\"CL_1hour.csv\")"
   ]
  },
  {
   "cell_type": "code",
   "execution_count": 3,
   "metadata": {},
   "outputs": [
    {
     "data": {
      "text/html": [
       "<div>\n",
       "<style>\n",
       "    .dataframe thead tr:only-child th {\n",
       "        text-align: right;\n",
       "    }\n",
       "\n",
       "    .dataframe thead th {\n",
       "        text-align: left;\n",
       "    }\n",
       "\n",
       "    .dataframe tbody tr th {\n",
       "        vertical-align: top;\n",
       "    }\n",
       "</style>\n",
       "<table border=\"1\" class=\"dataframe\">\n",
       "  <thead>\n",
       "    <tr style=\"text-align: right;\">\n",
       "      <th></th>\n",
       "      <th>&lt;Date&gt;</th>\n",
       "      <th>&lt;Time&gt;</th>\n",
       "      <th>&lt;Open&gt;</th>\n",
       "      <th>&lt;High&gt;</th>\n",
       "      <th>&lt;Low&gt;</th>\n",
       "      <th>&lt;Close&gt;</th>\n",
       "      <th>&lt;Volume&gt;</th>\n",
       "      <th>&lt;FastAvg&gt;</th>\n",
       "      <th>&lt;MedAvg&gt;</th>\n",
       "      <th>&lt;SlowAvg&gt;</th>\n",
       "      <th>...</th>\n",
       "      <th>&lt;Red 1&gt;</th>\n",
       "      <th>&lt;Yellow 1&gt;</th>\n",
       "      <th>&lt;Blue 1&gt;</th>\n",
       "      <th>&lt;DBlue 1&gt;</th>\n",
       "      <th>&lt;SlowK&gt;</th>\n",
       "      <th>&lt;SlowD&gt;</th>\n",
       "      <th>&lt;OverBot&gt;</th>\n",
       "      <th>&lt;OverSld&gt;</th>\n",
       "      <th>&lt;ADX&gt;</th>\n",
       "      <th>&lt;ATR&gt;</th>\n",
       "    </tr>\n",
       "  </thead>\n",
       "  <tbody>\n",
       "    <tr>\n",
       "      <th>0</th>\n",
       "      <td>2007/1/1</td>\n",
       "      <td>17:15:00</td>\n",
       "      <td>60.98</td>\n",
       "      <td>61.05</td>\n",
       "      <td>60.87</td>\n",
       "      <td>60.96</td>\n",
       "      <td>70</td>\n",
       "      <td>0.0</td>\n",
       "      <td>0.0</td>\n",
       "      <td>0.0</td>\n",
       "      <td>...</td>\n",
       "      <td>0.0</td>\n",
       "      <td>0.0</td>\n",
       "      <td>0.0</td>\n",
       "      <td>0.0</td>\n",
       "      <td>0.0</td>\n",
       "      <td>0.0</td>\n",
       "      <td>0.0</td>\n",
       "      <td>0.0</td>\n",
       "      <td>0.0</td>\n",
       "      <td>0.0</td>\n",
       "    </tr>\n",
       "    <tr>\n",
       "      <th>1</th>\n",
       "      <td>2007/1/1</td>\n",
       "      <td>19:00:00</td>\n",
       "      <td>60.88</td>\n",
       "      <td>60.90</td>\n",
       "      <td>60.79</td>\n",
       "      <td>60.79</td>\n",
       "      <td>84</td>\n",
       "      <td>0.0</td>\n",
       "      <td>0.0</td>\n",
       "      <td>0.0</td>\n",
       "      <td>...</td>\n",
       "      <td>0.0</td>\n",
       "      <td>0.0</td>\n",
       "      <td>0.0</td>\n",
       "      <td>0.0</td>\n",
       "      <td>0.0</td>\n",
       "      <td>0.0</td>\n",
       "      <td>0.0</td>\n",
       "      <td>0.0</td>\n",
       "      <td>0.0</td>\n",
       "      <td>0.0</td>\n",
       "    </tr>\n",
       "    <tr>\n",
       "      <th>2</th>\n",
       "      <td>2007/1/1</td>\n",
       "      <td>20:00:00</td>\n",
       "      <td>60.84</td>\n",
       "      <td>60.86</td>\n",
       "      <td>60.75</td>\n",
       "      <td>60.77</td>\n",
       "      <td>89</td>\n",
       "      <td>0.0</td>\n",
       "      <td>0.0</td>\n",
       "      <td>0.0</td>\n",
       "      <td>...</td>\n",
       "      <td>0.0</td>\n",
       "      <td>0.0</td>\n",
       "      <td>0.0</td>\n",
       "      <td>0.0</td>\n",
       "      <td>0.0</td>\n",
       "      <td>0.0</td>\n",
       "      <td>0.0</td>\n",
       "      <td>0.0</td>\n",
       "      <td>0.0</td>\n",
       "      <td>0.0</td>\n",
       "    </tr>\n",
       "    <tr>\n",
       "      <th>3</th>\n",
       "      <td>2007/1/1</td>\n",
       "      <td>21:00:00</td>\n",
       "      <td>60.80</td>\n",
       "      <td>60.85</td>\n",
       "      <td>60.77</td>\n",
       "      <td>60.77</td>\n",
       "      <td>87</td>\n",
       "      <td>0.0</td>\n",
       "      <td>0.0</td>\n",
       "      <td>0.0</td>\n",
       "      <td>...</td>\n",
       "      <td>0.0</td>\n",
       "      <td>0.0</td>\n",
       "      <td>0.0</td>\n",
       "      <td>0.0</td>\n",
       "      <td>0.0</td>\n",
       "      <td>0.0</td>\n",
       "      <td>0.0</td>\n",
       "      <td>0.0</td>\n",
       "      <td>0.0</td>\n",
       "      <td>0.0</td>\n",
       "    </tr>\n",
       "    <tr>\n",
       "      <th>4</th>\n",
       "      <td>2007/1/1</td>\n",
       "      <td>22:00:00</td>\n",
       "      <td>60.80</td>\n",
       "      <td>60.80</td>\n",
       "      <td>60.59</td>\n",
       "      <td>60.60</td>\n",
       "      <td>426</td>\n",
       "      <td>0.0</td>\n",
       "      <td>0.0</td>\n",
       "      <td>0.0</td>\n",
       "      <td>...</td>\n",
       "      <td>0.0</td>\n",
       "      <td>0.0</td>\n",
       "      <td>0.0</td>\n",
       "      <td>0.0</td>\n",
       "      <td>0.0</td>\n",
       "      <td>0.0</td>\n",
       "      <td>0.0</td>\n",
       "      <td>0.0</td>\n",
       "      <td>0.0</td>\n",
       "      <td>0.0</td>\n",
       "    </tr>\n",
       "  </tbody>\n",
       "</table>\n",
       "<p>5 rows × 29 columns</p>\n",
       "</div>"
      ],
      "text/plain": [
       "     <Date>    <Time>   <Open>   <High>   <Low>   <Close>   <Volume>  \\\n",
       "0  2007/1/1  17:15:00    60.98    61.05   60.87     60.96         70   \n",
       "1  2007/1/1  19:00:00    60.88    60.90   60.79     60.79         84   \n",
       "2  2007/1/1  20:00:00    60.84    60.86   60.75     60.77         89   \n",
       "3  2007/1/1  21:00:00    60.80    60.85   60.77     60.77         87   \n",
       "4  2007/1/1  22:00:00    60.80    60.80   60.59     60.60        426   \n",
       "\n",
       "    <FastAvg>   <MedAvg>   <SlowAvg>   ...     <Red 1>   <Yellow 1>  \\\n",
       "0         0.0        0.0         0.0   ...         0.0          0.0   \n",
       "1         0.0        0.0         0.0   ...         0.0          0.0   \n",
       "2         0.0        0.0         0.0   ...         0.0          0.0   \n",
       "3         0.0        0.0         0.0   ...         0.0          0.0   \n",
       "4         0.0        0.0         0.0   ...         0.0          0.0   \n",
       "\n",
       "    <Blue 1>   <DBlue 1>   <SlowK>   <SlowD>   <OverBot>   <OverSld>   <ADX>  \\\n",
       "0        0.0         0.0       0.0       0.0         0.0         0.0     0.0   \n",
       "1        0.0         0.0       0.0       0.0         0.0         0.0     0.0   \n",
       "2        0.0         0.0       0.0       0.0         0.0         0.0     0.0   \n",
       "3        0.0         0.0       0.0       0.0         0.0         0.0     0.0   \n",
       "4        0.0         0.0       0.0       0.0         0.0         0.0     0.0   \n",
       "\n",
       "    <ATR>  \n",
       "0     0.0  \n",
       "1     0.0  \n",
       "2     0.0  \n",
       "3     0.0  \n",
       "4     0.0  \n",
       "\n",
       "[5 rows x 29 columns]"
      ]
     },
     "execution_count": 3,
     "metadata": {},
     "output_type": "execute_result"
    }
   ],
   "source": [
    "data.head()"
   ]
  },
  {
   "cell_type": "code",
   "execution_count": 4,
   "metadata": {},
   "outputs": [
    {
     "data": {
      "text/plain": [
       "<Date>          67555\n",
       " <Time>         67555\n",
       " <Open>         67555\n",
       " <High>         67555\n",
       " <Low>          67555\n",
       " <Close>        67555\n",
       " <Volume>       67555\n",
       " <FastAvg>      67555\n",
       " <MedAvg>       67555\n",
       " <SlowAvg>      67555\n",
       " <Red 5>        67555\n",
       " <Yellow 5>     67555\n",
       " <Blue 5>       67555\n",
       " <DBlue 5>      67555\n",
       " <0>            67555\n",
       " <Red 20>       67555\n",
       " <Yellow 20>    67555\n",
       " <Blue 20>      67555\n",
       " <DBlue 20>     67555\n",
       " <Red 1>        67555\n",
       " <Yellow 1>     67555\n",
       " <Blue 1>       67555\n",
       " <DBlue 1>      67555\n",
       " <SlowK>        67555\n",
       " <SlowD>        67555\n",
       " <OverBot>      67555\n",
       " <OverSld>      67555\n",
       " <ADX>          67555\n",
       " <ATR>          67555\n",
       "dtype: int64"
      ]
     },
     "execution_count": 4,
     "metadata": {},
     "output_type": "execute_result"
    }
   ],
   "source": [
    "data.count()"
   ]
  },
  {
   "cell_type": "code",
   "execution_count": 5,
   "metadata": {},
   "outputs": [],
   "source": [
    "data['y'] = 0\n",
    "for num in range(67554):\n",
    "    data.loc[num, 'y'] = data.loc[num + 1, ' <Close>']"
   ]
  },
  {
   "cell_type": "code",
   "execution_count": 6,
   "metadata": {
    "collapsed": true
   },
   "outputs": [],
   "source": [
    "data_use = data.iloc[7554:-1]"
   ]
  },
  {
   "cell_type": "code",
   "execution_count": 7,
   "metadata": {},
   "outputs": [
    {
     "data": {
      "text/plain": [
       "Index(['<Date>', ' <Time>', ' <Open>', ' <High>', ' <Low>', ' <Close>',\n",
       "       ' <Volume>', ' <FastAvg>', ' <MedAvg>', ' <SlowAvg>', ' <Red 5>',\n",
       "       ' <Yellow 5>', ' <Blue 5>', ' <DBlue 5>', ' <0>', ' <Red 20>',\n",
       "       ' <Yellow 20>', ' <Blue 20>', ' <DBlue 20>', ' <Red 1>', ' <Yellow 1>',\n",
       "       ' <Blue 1>', ' <DBlue 1>', ' <SlowK>', ' <SlowD>', ' <OverBot>',\n",
       "       ' <OverSld>', ' <ADX>', ' <ATR>', 'y'],\n",
       "      dtype='object')"
      ]
     },
     "execution_count": 7,
     "metadata": {},
     "output_type": "execute_result"
    }
   ],
   "source": [
    "data_use.columns"
   ]
  },
  {
   "cell_type": "code",
   "execution_count": 8,
   "metadata": {
    "collapsed": true
   },
   "outputs": [],
   "source": [
    "data_use = data_use.drop(['<Date>',' <Time>',' <OverSld>', ' <OverBot>'], axis=1)"
   ]
  },
  {
   "cell_type": "code",
   "execution_count": 9,
   "metadata": {},
   "outputs": [
    {
     "data": {
      "text/plain": [
       "Index([' <Open>', ' <High>', ' <Low>', ' <Close>', ' <Volume>', ' <FastAvg>',\n",
       "       ' <MedAvg>', ' <SlowAvg>', ' <Red 5>', ' <Yellow 5>', ' <Blue 5>',\n",
       "       ' <DBlue 5>', ' <0>', ' <Red 20>', ' <Yellow 20>', ' <Blue 20>',\n",
       "       ' <DBlue 20>', ' <Red 1>', ' <Yellow 1>', ' <Blue 1>', ' <DBlue 1>',\n",
       "       ' <SlowK>', ' <SlowD>', ' <ADX>', ' <ATR>', 'y'],\n",
       "      dtype='object')"
      ]
     },
     "execution_count": 9,
     "metadata": {},
     "output_type": "execute_result"
    }
   ],
   "source": [
    "data_use.columns"
   ]
  },
  {
   "cell_type": "code",
   "execution_count": 10,
   "metadata": {},
   "outputs": [
    {
     "data": {
      "text/html": [
       "<div>\n",
       "<style>\n",
       "    .dataframe thead tr:only-child th {\n",
       "        text-align: right;\n",
       "    }\n",
       "\n",
       "    .dataframe thead th {\n",
       "        text-align: left;\n",
       "    }\n",
       "\n",
       "    .dataframe tbody tr th {\n",
       "        vertical-align: top;\n",
       "    }\n",
       "</style>\n",
       "<table border=\"1\" class=\"dataframe\">\n",
       "  <thead>\n",
       "    <tr style=\"text-align: right;\">\n",
       "      <th></th>\n",
       "      <th>&lt;Open&gt;</th>\n",
       "      <th>&lt;High&gt;</th>\n",
       "      <th>&lt;Low&gt;</th>\n",
       "      <th>&lt;Close&gt;</th>\n",
       "      <th>&lt;Volume&gt;</th>\n",
       "      <th>&lt;FastAvg&gt;</th>\n",
       "      <th>&lt;MedAvg&gt;</th>\n",
       "      <th>&lt;SlowAvg&gt;</th>\n",
       "      <th>&lt;Red 5&gt;</th>\n",
       "      <th>&lt;Yellow 5&gt;</th>\n",
       "      <th>...</th>\n",
       "      <th>&lt;DBlue 20&gt;</th>\n",
       "      <th>&lt;Red 1&gt;</th>\n",
       "      <th>&lt;Yellow 1&gt;</th>\n",
       "      <th>&lt;Blue 1&gt;</th>\n",
       "      <th>&lt;DBlue 1&gt;</th>\n",
       "      <th>&lt;SlowK&gt;</th>\n",
       "      <th>&lt;SlowD&gt;</th>\n",
       "      <th>&lt;ADX&gt;</th>\n",
       "      <th>&lt;ATR&gt;</th>\n",
       "      <th>y</th>\n",
       "    </tr>\n",
       "  </thead>\n",
       "  <tbody>\n",
       "    <tr>\n",
       "      <th>7554</th>\n",
       "      <td>104.68</td>\n",
       "      <td>104.71</td>\n",
       "      <td>104.41</td>\n",
       "      <td>104.57</td>\n",
       "      <td>378</td>\n",
       "      <td>104.45</td>\n",
       "      <td>104.31</td>\n",
       "      <td>104.33</td>\n",
       "      <td>-0.63</td>\n",
       "      <td>0.17</td>\n",
       "      <td>...</td>\n",
       "      <td>1.91</td>\n",
       "      <td>0.08</td>\n",
       "      <td>0.23</td>\n",
       "      <td>0.12</td>\n",
       "      <td>0.03</td>\n",
       "      <td>61.76</td>\n",
       "      <td>45.31</td>\n",
       "      <td>24.54</td>\n",
       "      <td>0.2257</td>\n",
       "      <td>104.78</td>\n",
       "    </tr>\n",
       "    <tr>\n",
       "      <th>7555</th>\n",
       "      <td>104.57</td>\n",
       "      <td>104.88</td>\n",
       "      <td>104.57</td>\n",
       "      <td>104.78</td>\n",
       "      <td>755</td>\n",
       "      <td>104.59</td>\n",
       "      <td>104.37</td>\n",
       "      <td>104.33</td>\n",
       "      <td>-0.58</td>\n",
       "      <td>0.11</td>\n",
       "      <td>...</td>\n",
       "      <td>2.06</td>\n",
       "      <td>0.10</td>\n",
       "      <td>0.27</td>\n",
       "      <td>0.18</td>\n",
       "      <td>0.07</td>\n",
       "      <td>88.42</td>\n",
       "      <td>65.49</td>\n",
       "      <td>25.67</td>\n",
       "      <td>0.2264</td>\n",
       "      <td>104.57</td>\n",
       "    </tr>\n",
       "    <tr>\n",
       "      <th>7556</th>\n",
       "      <td>104.80</td>\n",
       "      <td>104.89</td>\n",
       "      <td>104.46</td>\n",
       "      <td>104.57</td>\n",
       "      <td>954</td>\n",
       "      <td>104.65</td>\n",
       "      <td>104.40</td>\n",
       "      <td>104.32</td>\n",
       "      <td>-0.54</td>\n",
       "      <td>0.01</td>\n",
       "      <td>...</td>\n",
       "      <td>2.16</td>\n",
       "      <td>0.06</td>\n",
       "      <td>0.25</td>\n",
       "      <td>0.21</td>\n",
       "      <td>-0.18</td>\n",
       "      <td>74.45</td>\n",
       "      <td>74.88</td>\n",
       "      <td>26.27</td>\n",
       "      <td>0.2314</td>\n",
       "      <td>104.74</td>\n",
       "    </tr>\n",
       "    <tr>\n",
       "      <th>7557</th>\n",
       "      <td>104.57</td>\n",
       "      <td>105.03</td>\n",
       "      <td>104.57</td>\n",
       "      <td>104.74</td>\n",
       "      <td>2230</td>\n",
       "      <td>104.66</td>\n",
       "      <td>104.47</td>\n",
       "      <td>104.34</td>\n",
       "      <td>-0.48</td>\n",
       "      <td>-0.06</td>\n",
       "      <td>...</td>\n",
       "      <td>2.29</td>\n",
       "      <td>0.02</td>\n",
       "      <td>0.24</td>\n",
       "      <td>0.27</td>\n",
       "      <td>-0.16</td>\n",
       "      <td>72.27</td>\n",
       "      <td>78.38</td>\n",
       "      <td>27.10</td>\n",
       "      <td>0.2536</td>\n",
       "      <td>104.74</td>\n",
       "    </tr>\n",
       "    <tr>\n",
       "      <th>7558</th>\n",
       "      <td>104.75</td>\n",
       "      <td>105.18</td>\n",
       "      <td>104.03</td>\n",
       "      <td>104.74</td>\n",
       "      <td>9983</td>\n",
       "      <td>104.71</td>\n",
       "      <td>104.54</td>\n",
       "      <td>104.37</td>\n",
       "      <td>-0.44</td>\n",
       "      <td>-0.15</td>\n",
       "      <td>...</td>\n",
       "      <td>2.41</td>\n",
       "      <td>-0.05</td>\n",
       "      <td>0.16</td>\n",
       "      <td>0.26</td>\n",
       "      <td>-0.24</td>\n",
       "      <td>63.92</td>\n",
       "      <td>70.21</td>\n",
       "      <td>25.97</td>\n",
       "      <td>0.3214</td>\n",
       "      <td>105.34</td>\n",
       "    </tr>\n",
       "  </tbody>\n",
       "</table>\n",
       "<p>5 rows × 26 columns</p>\n",
       "</div>"
      ],
      "text/plain": [
       "       <Open>   <High>   <Low>   <Close>   <Volume>   <FastAvg>   <MedAvg>  \\\n",
       "7554   104.68   104.71  104.41    104.57        378      104.45     104.31   \n",
       "7555   104.57   104.88  104.57    104.78        755      104.59     104.37   \n",
       "7556   104.80   104.89  104.46    104.57        954      104.65     104.40   \n",
       "7557   104.57   105.03  104.57    104.74       2230      104.66     104.47   \n",
       "7558   104.75   105.18  104.03    104.74       9983      104.71     104.54   \n",
       "\n",
       "       <SlowAvg>   <Red 5>   <Yellow 5>   ...     <DBlue 20>   <Red 1>  \\\n",
       "7554      104.33     -0.63         0.17   ...           1.91      0.08   \n",
       "7555      104.33     -0.58         0.11   ...           2.06      0.10   \n",
       "7556      104.32     -0.54         0.01   ...           2.16      0.06   \n",
       "7557      104.34     -0.48        -0.06   ...           2.29      0.02   \n",
       "7558      104.37     -0.44        -0.15   ...           2.41     -0.05   \n",
       "\n",
       "       <Yellow 1>   <Blue 1>   <DBlue 1>   <SlowK>   <SlowD>   <ADX>   <ATR>  \\\n",
       "7554         0.23       0.12        0.03     61.76     45.31   24.54  0.2257   \n",
       "7555         0.27       0.18        0.07     88.42     65.49   25.67  0.2264   \n",
       "7556         0.25       0.21       -0.18     74.45     74.88   26.27  0.2314   \n",
       "7557         0.24       0.27       -0.16     72.27     78.38   27.10  0.2536   \n",
       "7558         0.16       0.26       -0.24     63.92     70.21   25.97  0.3214   \n",
       "\n",
       "           y  \n",
       "7554  104.78  \n",
       "7555  104.57  \n",
       "7556  104.74  \n",
       "7557  104.74  \n",
       "7558  105.34  \n",
       "\n",
       "[5 rows x 26 columns]"
      ]
     },
     "execution_count": 10,
     "metadata": {},
     "output_type": "execute_result"
    }
   ],
   "source": [
    "data_use.head()"
   ]
  },
  {
   "cell_type": "code",
   "execution_count": 11,
   "metadata": {
    "collapsed": true
   },
   "outputs": [],
   "source": [
    "data_train = data_use.iloc[:53000]\n",
    "data_test = data_use.iloc[53000:]"
   ]
  },
  {
   "cell_type": "code",
   "execution_count": 12,
   "metadata": {
    "collapsed": true
   },
   "outputs": [],
   "source": [
    "x_train = data_train.drop('y', axis = 1)\n",
    "y_train = data_train.loc[:, 'y']\n",
    "\n",
    "x_test = data_test.drop('y', axis = 1)\n",
    "y_test = data_test.loc[:, 'y']"
   ]
  },
  {
   "cell_type": "code",
   "execution_count": 13,
   "metadata": {
    "collapsed": true
   },
   "outputs": [],
   "source": [
    "x_train_mean = x_train.mean()\n",
    "x_train_sd = x_train.std()"
   ]
  },
  {
   "cell_type": "code",
   "execution_count": 14,
   "metadata": {},
   "outputs": [],
   "source": [
    "# watchout for nan\n",
    "x_train_ss = (x_train - x_train_mean) / (x_train_sd + 0.001)\n",
    "x_test_ss = (x_test - x_train_mean) / (x_train_sd + 0.001)"
   ]
  },
  {
   "cell_type": "code",
   "execution_count": 15,
   "metadata": {
    "collapsed": true
   },
   "outputs": [],
   "source": [
    "x_train_ar = x_train_ss.values\n",
    "y_train_ar = y_train.values\n",
    "\n",
    "x_test_ar = x_test_ss.values\n",
    "y_test_ar = y_test.values"
   ]
  },
  {
   "cell_type": "code",
   "execution_count": 16,
   "metadata": {
    "collapsed": true
   },
   "outputs": [],
   "source": [
    "x_train_re = x_train_ar.reshape(2650, 20, 25)\n",
    "y_train_re = y_train_ar.reshape(2650, 20, 1)\n",
    "\n",
    "x_test_re = x_test_ar.reshape(350, 20, 25)\n",
    "y_test_re = y_test_ar.reshape(350, 20, 1)"
   ]
  },
  {
   "cell_type": "code",
   "execution_count": 17,
   "metadata": {},
   "outputs": [],
   "source": [
    "if np.any(np.isnan(x_train_re) == True):\n",
    "    print('ops')"
   ]
  },
  {
   "cell_type": "markdown",
   "metadata": {},
   "source": [
    "# Train the Model"
   ]
  },
  {
   "cell_type": "code",
   "execution_count": 18,
   "metadata": {
    "collapsed": true
   },
   "outputs": [],
   "source": [
    "def leaky_relu(z, name=None):\n",
    "    return tf.maximum(0.01 * z, z, name=name)\n",
    "\n",
    "def switch(x):\n",
    "    return x * (1 / (1 + tf.exp(-x)))"
   ]
  },
  {
   "cell_type": "code",
   "execution_count": 19,
   "metadata": {
    "collapsed": true
   },
   "outputs": [],
   "source": [
    "now = datetime.utcnow().strftime(\"%Y%m%d%H%M%S\")\n",
    "root_log = \"CL_rnn_tf_log\"\n",
    "logdir = \"{}/run-{}/\".format(root_log, now)"
   ]
  },
  {
   "cell_type": "code",
   "execution_count": 20,
   "metadata": {
    "collapsed": true
   },
   "outputs": [],
   "source": [
    "tf.reset_default_graph()\n",
    "\n",
    "# parameter to finetune\n",
    "\n",
    "n_inputs = 25\n",
    "n_neurons = 150\n",
    "n_layers = 6\n",
    "n_steps = 20\n",
    "n_output = 1\n",
    "he_init = tf.contrib.layers.variance_scaling_initializer()\n",
    "xavier_init = tf.contrib.layers.xavier_initializer()\n",
    "\n",
    "learning_rate = 0.01\n",
    "\n",
    "threshold = 1.0\n",
    "\n",
    "n_iterations = 1500\n",
    "# n_epoch\n",
    "# batch_size = 50\n",
    "train_keep_prob = 0.5"
   ]
  },
  {
   "cell_type": "code",
   "execution_count": 21,
   "metadata": {},
   "outputs": [],
   "source": [
    "x = tf.placeholder(tf.float32, shape = [None, n_steps, n_inputs], name = \"x\")\n",
    "y = tf.placeholder(tf.float32, shape = [None, n_steps, n_output], name = \"y\")\n",
    "keep_rate = tf.placeholder_with_default(1.0, shape=(), name = \"dropout_rate\")"
   ]
  },
  {
   "cell_type": "code",
   "execution_count": 22,
   "metadata": {},
   "outputs": [],
   "source": [
    "with tf.name_scope(\"rnn\"):\n",
    "    lstm_cells = [tf.contrib.rnn.LSTMCell(num_units = n_neurons, use_peepholes = True, initializer = xavier_init) for layer in range(n_layers)]\n",
    "    lstm_cells_drop = [tf.contrib.rnn.DropoutWrapper(lstm_cell, input_keep_prob = keep_rate) for lstm_cell in lstm_cells]\n",
    "    \n",
    "    multi_layer_lstm = tf.contrib.rnn.MultiRNNCell(lstm_cells_drop)\n",
    "    outputs, states = tf.nn.dynamic_rnn(multi_layer_lstm, x, dtype = tf.float32, swap_memory = True)\n",
    "    \n",
    "    #效果如同 OutputProjectionWrapper\n",
    "\n",
    "    lstm_outputs = tf.reshape(outputs, [-1, n_neurons])\n",
    "    stacked_lstm_outputs = tf.layers.dense(lstm_outputs, n_output)\n",
    "    final_outputs = tf.reshape(stacked_lstm_outputs, [-1, n_steps, n_output])"
   ]
  },
  {
   "cell_type": "code",
   "execution_count": 23,
   "metadata": {
    "collapsed": true
   },
   "outputs": [],
   "source": [
    "with tf.name_scope(\"MSE\"):\n",
    "    error = final_outputs - y\n",
    "    mse = tf.reduce_mean(tf.square(error))"
   ]
  },
  {
   "cell_type": "code",
   "execution_count": 24,
   "metadata": {
    "collapsed": true
   },
   "outputs": [],
   "source": [
    "# gradient clipping\n",
    "with tf.name_scope(\"train\"):\n",
    "    optimizer = tf.train.AdamOptimizer(learning_rate = learning_rate)\n",
    "    grads_and_vars = optimizer.compute_gradients(mse)\n",
    "    capped_gvs = [(tf.clip_by_value(grad, -threshold, threshold), var) for grad, var in grads_and_vars]\n",
    "    training_op = optimizer.apply_gradients(capped_gvs)"
   ]
  },
  {
   "cell_type": "code",
   "execution_count": 25,
   "metadata": {
    "collapsed": true
   },
   "outputs": [],
   "source": [
    "init = tf.global_variables_initializer()\n",
    "saver = tf.train.Saver()\n",
    "\n",
    "mse_summary = tf.summary.scalar('mse', mse)\n",
    "file_writer = tf.summary.FileWriter(logdir, tf.get_default_graph())\n",
    "extra_update_ops = tf.get_collection(tf.GraphKeys.UPDATE_OPS)"
   ]
  },
  {
   "cell_type": "code",
   "execution_count": 26,
   "metadata": {},
   "outputs": [
    {
     "name": "stdout",
     "output_type": "stream",
     "text": [
      "Iteration 0 MSE = 6833.96\n",
      "Iteration 100 MSE = 6834.07\n",
      "Iteration 200 MSE = 6834.25\n",
      "Iteration 300 MSE = 6834.39\n",
      "Iteration 400 MSE = 6834.09\n",
      "Iteration 500 MSE = 6834.24\n",
      "Iteration 600 MSE = 6834.14\n",
      "Iteration 700 MSE = 6834.3\n",
      "Iteration 800 MSE = 6834.1\n",
      "Iteration 900 MSE = 6834.06\n",
      "Iteration 1000 MSE = 6834.23\n",
      "Iteration 1100 MSE = 6833.99\n",
      "Iteration 1200 MSE = 6834.02\n",
      "Iteration 1300 MSE = 6834.44\n",
      "Iteration 1400 MSE = 6834.45\n",
      "Final train mse =  6779.39\n",
      "Final test mse =  2792.79\n"
     ]
    }
   ],
   "source": [
    "with tf.Session() as sess:\n",
    "    for iteration in range(n_iterations):\n",
    "        init.run()\n",
    "        \n",
    "        if iteration % 100 == 0:\n",
    "            current_mse = mse_summary.eval(feed_dict={x: x_train_re, y: y_train_re})\n",
    "            file_writer.add_summary(current_mse, iteration)\n",
    "            \n",
    "            print(\"Iteration\", iteration, \"MSE =\", mse.eval(feed_dict={x: x_train_re, y: y_train_re}))\n",
    "            \n",
    "            save_path = saver.save(sess, \"./CL_rnn_save/temple_sample_model.ckpt\")\n",
    "        \n",
    "        sess.run(training_op, feed_dict={x: x_train_re, y: y_train_re, keep_rate: train_keep_prob})\n",
    "            \n",
    "    CL_rnn_train_mse = mse.eval(feed_dict={x: x_train_re, y: y_train_re})\n",
    "    CL_rnn_train_error = error.eval(feed_dict={x: x_train_re, y: y_train_re})\n",
    "    \n",
    "    CL_rnn_test_mse = mse.eval(feed_dict={x: x_test_re, y: y_test_re})\n",
    "    CL_rnn_test_error = error.eval(feed_dict={x: x_test_re, y: y_test_re})\n",
    "    \n",
    "    print(\"Final train mse = \", CL_rnn_train_mse)\n",
    "    print(\"Final test mse = \", CL_rnn_test_mse)\n",
    "\n",
    "    final_save_path = saver.save(sess, \"./CL_rnn_save/final_sample_model.ckpt\")"
   ]
  },
  {
   "cell_type": "code",
   "execution_count": null,
   "metadata": {
    "collapsed": true
   },
   "outputs": [],
   "source": []
  }
 ],
 "metadata": {
  "kernelspec": {
   "display_name": "Python 3",
   "language": "python",
   "name": "python3"
  },
  "language_info": {
   "codemirror_mode": {
    "name": "ipython",
    "version": 3
   },
   "file_extension": ".py",
   "mimetype": "text/x-python",
   "name": "python",
   "nbconvert_exporter": "python",
   "pygments_lexer": "ipython3",
   "version": "3.5.3"
  }
 },
 "nbformat": 4,
 "nbformat_minor": 2
}
