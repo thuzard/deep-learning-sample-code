{
 "cells": [
  {
   "cell_type": "code",
   "execution_count": 1,
   "metadata": {
    "collapsed": true
   },
   "outputs": [],
   "source": [
    "import tensorflow as tf\n",
    "import numpy as np\n",
    "import pandas as pd\n",
    "import matplotlib.pyplot as plt\n",
    "\n",
    "from functools import partial\n",
    "from datetime import datetime"
   ]
  },
  {
   "cell_type": "markdown",
   "metadata": {},
   "source": [
    "# Import Data and Standard Scale"
   ]
  },
  {
   "cell_type": "code",
   "execution_count": 2,
   "metadata": {},
   "outputs": [
    {
     "data": {
      "text/plain": [
       "<Close_diff_y>     2228\n",
       "<Close_diff>       2228\n",
       "<Open_diff>        2228\n",
       "<High_diff>        2228\n",
       "<Low_diff>         2228\n",
       " <Volume>          2228\n",
       " <FastAvg_diff>    2228\n",
       " <MedAvg_diff>     2228\n",
       " <SlowAvg_diff>    2228\n",
       " <Red 5>           2228\n",
       " <Yellow 5>        2228\n",
       " <Blue 5>          2228\n",
       " <DBlue 5>         2228\n",
       " <Red 1>           2228\n",
       " <Yellow 1>        2228\n",
       " <Blue 1>          2228\n",
       " <DBlue 1>         2228\n",
       " <SlowK>           2228\n",
       " <SlowD>           2228\n",
       "dtype: int64"
      ]
     },
     "execution_count": 2,
     "metadata": {},
     "output_type": "execute_result"
    }
   ],
   "source": [
    "data = pd.read_csv(\"CL_dnn_data.csv\")\n",
    "data.count()"
   ]
  },
  {
   "cell_type": "code",
   "execution_count": 11,
   "metadata": {
    "collapsed": true
   },
   "outputs": [],
   "source": [
    "data_to_plot = data.loc[:, [\"<Close_diff_y>\"]]\n",
    "data_to_plot = data_to_plot.as_matrix()"
   ]
  },
  {
   "cell_type": "code",
   "execution_count": 5,
   "metadata": {},
   "outputs": [
    {
     "data": {
      "image/png": "[encoded data removed]",
      "text/plain": [
       "<matplotlib.figure.Figure at 0x227b94aef98>"
      ]
     },
     "metadata": {},
     "output_type": "display_data"
    }
   ],
   "source": [
    "plt.hist(data_to_plot)\n",
    "plt.title(\"Close price differetial histogram\")\n",
    "plt.xlabel(\"value\")\n",
    "plt.ylabel(\"times\")\n",
    "plt.grid(True)\n",
    "plt.show()"
   ]
  },
  {
   "cell_type": "code",
   "execution_count": 6,
   "metadata": {
    "collapsed": true
   },
   "outputs": [],
   "source": [
    "data_train = data.iloc[0:2000]\n",
    "data_test = data.iloc[2000:]"
   ]
  },
  {
   "cell_type": "code",
   "execution_count": 7,
   "metadata": {
    "collapsed": true
   },
   "outputs": [],
   "source": [
    "y_train = data_train.loc[:, [\"<Close_diff_y>\"]]\n",
    "x_train_raw = data_train.drop(\"<Close_diff_y>\", axis = 1)\n",
    "\n",
    "\n",
    "y_test = data_test.loc[:, [\"<Close_diff_y>\"]]\n",
    "x_test_raw = data_test.drop(\"<Close_diff_y>\", axis = 1)"
   ]
  },
  {
   "cell_type": "code",
   "execution_count": 8,
   "metadata": {},
   "outputs": [
    {
     "data": {
      "text/html": [
       "<div>\n",
       "<style>\n",
       "    .dataframe thead tr:only-child th {\n",
       "        text-align: right;\n",
       "    }\n",
       "\n",
       "    .dataframe thead th {\n",
       "        text-align: left;\n",
       "    }\n",
       "\n",
       "    .dataframe tbody tr th {\n",
       "        vertical-align: top;\n",
       "    }\n",
       "</style>\n",
       "<table border=\"1\" class=\"dataframe\">\n",
       "  <thead>\n",
       "    <tr style=\"text-align: right;\">\n",
       "      <th></th>\n",
       "      <th>&lt;Close_diff&gt;</th>\n",
       "      <th>&lt;Open_diff&gt;</th>\n",
       "      <th>&lt;High_diff&gt;</th>\n",
       "      <th>&lt;Low_diff&gt;</th>\n",
       "      <th>&lt;Volume&gt;</th>\n",
       "      <th>&lt;FastAvg_diff&gt;</th>\n",
       "      <th>&lt;MedAvg_diff&gt;</th>\n",
       "      <th>&lt;SlowAvg_diff&gt;</th>\n",
       "      <th>&lt;Red 5&gt;</th>\n",
       "      <th>&lt;Yellow 5&gt;</th>\n",
       "      <th>&lt;Blue 5&gt;</th>\n",
       "      <th>&lt;DBlue 5&gt;</th>\n",
       "      <th>&lt;Red 1&gt;</th>\n",
       "      <th>&lt;Yellow 1&gt;</th>\n",
       "      <th>&lt;Blue 1&gt;</th>\n",
       "      <th>&lt;DBlue 1&gt;</th>\n",
       "      <th>&lt;SlowK&gt;</th>\n",
       "      <th>&lt;SlowD&gt;</th>\n",
       "    </tr>\n",
       "  </thead>\n",
       "  <tbody>\n",
       "    <tr>\n",
       "      <th>count</th>\n",
       "      <td>2000.00000</td>\n",
       "      <td>2000.000000</td>\n",
       "      <td>2000.000000</td>\n",
       "      <td>2000.000000</td>\n",
       "      <td>2.000000e+03</td>\n",
       "      <td>2000.000000</td>\n",
       "      <td>2000.000000</td>\n",
       "      <td>2000.000000</td>\n",
       "      <td>2000.000000</td>\n",
       "      <td>2000.000000</td>\n",
       "      <td>2000.000000</td>\n",
       "      <td>2000.000000</td>\n",
       "      <td>2000.000000</td>\n",
       "      <td>2000.000000</td>\n",
       "      <td>2000.000000</td>\n",
       "      <td>2000.000000</td>\n",
       "      <td>2000.000000</td>\n",
       "      <td>2000.000000</td>\n",
       "    </tr>\n",
       "    <tr>\n",
       "      <th>mean</th>\n",
       "      <td>-0.00781</td>\n",
       "      <td>-0.009020</td>\n",
       "      <td>-0.008930</td>\n",
       "      <td>-0.007760</td>\n",
       "      <td>2.428458e+05</td>\n",
       "      <td>-0.009350</td>\n",
       "      <td>-0.009670</td>\n",
       "      <td>-0.010445</td>\n",
       "      <td>-0.057720</td>\n",
       "      <td>-0.195240</td>\n",
       "      <td>-0.469265</td>\n",
       "      <td>0.003965</td>\n",
       "      <td>0.001355</td>\n",
       "      <td>0.005170</td>\n",
       "      <td>-0.025220</td>\n",
       "      <td>0.001280</td>\n",
       "      <td>51.594990</td>\n",
       "      <td>51.572320</td>\n",
       "    </tr>\n",
       "    <tr>\n",
       "      <th>std</th>\n",
       "      <td>1.39912</td>\n",
       "      <td>1.395431</td>\n",
       "      <td>1.162925</td>\n",
       "      <td>1.239757</td>\n",
       "      <td>1.189469e+05</td>\n",
       "      <td>0.678188</td>\n",
       "      <td>0.454326</td>\n",
       "      <td>0.322362</td>\n",
       "      <td>2.100776</td>\n",
       "      <td>5.273686</td>\n",
       "      <td>9.576264</td>\n",
       "      <td>4.601332</td>\n",
       "      <td>0.960603</td>\n",
       "      <td>2.270821</td>\n",
       "      <td>3.854396</td>\n",
       "      <td>2.197141</td>\n",
       "      <td>29.188785</td>\n",
       "      <td>28.361945</td>\n",
       "    </tr>\n",
       "    <tr>\n",
       "      <th>min</th>\n",
       "      <td>-8.97000</td>\n",
       "      <td>-9.020000</td>\n",
       "      <td>-7.000000</td>\n",
       "      <td>-10.230000</td>\n",
       "      <td>6.339000e+03</td>\n",
       "      <td>-3.730000</td>\n",
       "      <td>-2.010000</td>\n",
       "      <td>-1.170000</td>\n",
       "      <td>-6.780000</td>\n",
       "      <td>-12.670000</td>\n",
       "      <td>-22.460000</td>\n",
       "      <td>-15.400000</td>\n",
       "      <td>-4.060000</td>\n",
       "      <td>-7.840000</td>\n",
       "      <td>-12.680000</td>\n",
       "      <td>-10.240000</td>\n",
       "      <td>1.290000</td>\n",
       "      <td>2.420000</td>\n",
       "    </tr>\n",
       "    <tr>\n",
       "      <th>25%</th>\n",
       "      <td>-0.87000</td>\n",
       "      <td>-0.870000</td>\n",
       "      <td>-0.670000</td>\n",
       "      <td>-0.680000</td>\n",
       "      <td>1.657750e+05</td>\n",
       "      <td>-0.420000</td>\n",
       "      <td>-0.290000</td>\n",
       "      <td>-0.220000</td>\n",
       "      <td>-1.480000</td>\n",
       "      <td>-3.762500</td>\n",
       "      <td>-6.852500</td>\n",
       "      <td>-2.862500</td>\n",
       "      <td>-0.570000</td>\n",
       "      <td>-1.322500</td>\n",
       "      <td>-2.480000</td>\n",
       "      <td>-1.210000</td>\n",
       "      <td>23.612500</td>\n",
       "      <td>24.557500</td>\n",
       "    </tr>\n",
       "    <tr>\n",
       "      <th>50%</th>\n",
       "      <td>0.01000</td>\n",
       "      <td>0.010000</td>\n",
       "      <td>-0.050000</td>\n",
       "      <td>0.060000</td>\n",
       "      <td>2.184665e+05</td>\n",
       "      <td>0.010000</td>\n",
       "      <td>0.010000</td>\n",
       "      <td>0.010000</td>\n",
       "      <td>-0.320000</td>\n",
       "      <td>-0.415000</td>\n",
       "      <td>-0.855000</td>\n",
       "      <td>0.030000</td>\n",
       "      <td>-0.010000</td>\n",
       "      <td>-0.110000</td>\n",
       "      <td>-0.260000</td>\n",
       "      <td>-0.030000</td>\n",
       "      <td>53.930000</td>\n",
       "      <td>53.715000</td>\n",
       "    </tr>\n",
       "    <tr>\n",
       "      <th>75%</th>\n",
       "      <td>0.85250</td>\n",
       "      <td>0.832500</td>\n",
       "      <td>0.630000</td>\n",
       "      <td>0.700000</td>\n",
       "      <td>2.911875e+05</td>\n",
       "      <td>0.420000</td>\n",
       "      <td>0.290000</td>\n",
       "      <td>0.210000</td>\n",
       "      <td>1.140000</td>\n",
       "      <td>2.932500</td>\n",
       "      <td>4.762500</td>\n",
       "      <td>2.940000</td>\n",
       "      <td>0.530000</td>\n",
       "      <td>1.210000</td>\n",
       "      <td>2.182500</td>\n",
       "      <td>1.252500</td>\n",
       "      <td>78.162500</td>\n",
       "      <td>77.615000</td>\n",
       "    </tr>\n",
       "    <tr>\n",
       "      <th>max</th>\n",
       "      <td>6.41000</td>\n",
       "      <td>6.420000</td>\n",
       "      <td>4.510000</td>\n",
       "      <td>4.760000</td>\n",
       "      <td>1.075988e+06</td>\n",
       "      <td>2.760000</td>\n",
       "      <td>1.710000</td>\n",
       "      <td>1.060000</td>\n",
       "      <td>6.570000</td>\n",
       "      <td>19.070000</td>\n",
       "      <td>31.840000</td>\n",
       "      <td>13.530000</td>\n",
       "      <td>5.310000</td>\n",
       "      <td>9.490000</td>\n",
       "      <td>13.800000</td>\n",
       "      <td>8.360000</td>\n",
       "      <td>99.050000</td>\n",
       "      <td>98.700000</td>\n",
       "    </tr>\n",
       "  </tbody>\n",
       "</table>\n",
       "</div>"
      ],
      "text/plain": [
       "       <Close_diff>  <Open_diff>  <High_diff>   <Low_diff>      <Volume>  \\\n",
       "count    2000.00000  2000.000000  2000.000000  2000.000000  2.000000e+03   \n",
       "mean       -0.00781    -0.009020    -0.008930    -0.007760  2.428458e+05   \n",
       "std         1.39912     1.395431     1.162925     1.239757  1.189469e+05   \n",
       "min        -8.97000    -9.020000    -7.000000   -10.230000  6.339000e+03   \n",
       "25%        -0.87000    -0.870000    -0.670000    -0.680000  1.657750e+05   \n",
       "50%         0.01000     0.010000    -0.050000     0.060000  2.184665e+05   \n",
       "75%         0.85250     0.832500     0.630000     0.700000  2.911875e+05   \n",
       "max         6.41000     6.420000     4.510000     4.760000  1.075988e+06   \n",
       "\n",
       "        <FastAvg_diff>   <MedAvg_diff>   <SlowAvg_diff>      <Red 5>  \\\n",
       "count      2000.000000     2000.000000      2000.000000  2000.000000   \n",
       "mean         -0.009350       -0.009670        -0.010445    -0.057720   \n",
       "std           0.678188        0.454326         0.322362     2.100776   \n",
       "min          -3.730000       -2.010000        -1.170000    -6.780000   \n",
       "25%          -0.420000       -0.290000        -0.220000    -1.480000   \n",
       "50%           0.010000        0.010000         0.010000    -0.320000   \n",
       "75%           0.420000        0.290000         0.210000     1.140000   \n",
       "max           2.760000        1.710000         1.060000     6.570000   \n",
       "\n",
       "        <Yellow 5>     <Blue 5>    <DBlue 5>      <Red 1>   <Yellow 1>  \\\n",
       "count  2000.000000  2000.000000  2000.000000  2000.000000  2000.000000   \n",
       "mean     -0.195240    -0.469265     0.003965     0.001355     0.005170   \n",
       "std       5.273686     9.576264     4.601332     0.960603     2.270821   \n",
       "min     -12.670000   -22.460000   -15.400000    -4.060000    -7.840000   \n",
       "25%      -3.762500    -6.852500    -2.862500    -0.570000    -1.322500   \n",
       "50%      -0.415000    -0.855000     0.030000    -0.010000    -0.110000   \n",
       "75%       2.932500     4.762500     2.940000     0.530000     1.210000   \n",
       "max      19.070000    31.840000    13.530000     5.310000     9.490000   \n",
       "\n",
       "          <Blue 1>    <DBlue 1>      <SlowK>      <SlowD>  \n",
       "count  2000.000000  2000.000000  2000.000000  2000.000000  \n",
       "mean     -0.025220     0.001280    51.594990    51.572320  \n",
       "std       3.854396     2.197141    29.188785    28.361945  \n",
       "min     -12.680000   -10.240000     1.290000     2.420000  \n",
       "25%      -2.480000    -1.210000    23.612500    24.557500  \n",
       "50%      -0.260000    -0.030000    53.930000    53.715000  \n",
       "75%       2.182500     1.252500    78.162500    77.615000  \n",
       "max      13.800000     8.360000    99.050000    98.700000  "
      ]
     },
     "execution_count": 8,
     "metadata": {},
     "output_type": "execute_result"
    }
   ],
   "source": [
    "x_train_raw.describe()"
   ]
  },
  {
   "cell_type": "code",
   "execution_count": 9,
   "metadata": {},
   "outputs": [],
   "source": [
    "x_train_raw_mean = x_train_raw.mean()\n",
    "x_train_raw_sd = x_train_raw.std()"
   ]
  },
  {
   "cell_type": "code",
   "execution_count": 10,
   "metadata": {},
   "outputs": [],
   "source": [
    "x_train = (x_train_raw - x_train_raw_mean) / x_train_raw_sd\n",
    "x_test = (x_test_raw - x_train_raw_mean) / x_train_raw_sd\n",
    "\n",
    "# train and test data after standard scale"
   ]
  },
  {
   "cell_type": "markdown",
   "metadata": {},
   "source": [
    "# Train the Model"
   ]
  },
  {
   "cell_type": "code",
   "execution_count": 12,
   "metadata": {
    "collapsed": true
   },
   "outputs": [],
   "source": [
    "def leaky_relu(z, name=None):\n",
    "    return tf.maximum(0.01 * z, z, name=name)\n",
    "\n",
    "def switch(x):\n",
    "    return x * (1 / (1 + tf.exp(-x)))"
   ]
  },
  {
   "cell_type": "code",
   "execution_count": 13,
   "metadata": {
    "collapsed": true
   },
   "outputs": [],
   "source": [
    "now = datetime.utcnow().strftime(\"%Y%m%d%H%M%S\")\n",
    "root_log = \"CL_dnn_tf_log\"\n",
    "logdir = \"{}/run-{}/\".format(root_log, now)"
   ]
  },
  {
   "cell_type": "code",
   "execution_count": 14,
   "metadata": {
    "collapsed": true
   },
   "outputs": [],
   "source": [
    "tf.reset_default_graph()\n",
    "# make sure that no node been made twice\n",
    "\n",
    "n_inputs = 18\n",
    "n_hidden1 = 200\n",
    "n_hidden2 = 150\n",
    "n_hidden3 = 100\n",
    "n_output = 1\n",
    "\n",
    "batch_norm_momentum = 0.9"
   ]
  },
  {
   "cell_type": "code",
   "execution_count": 15,
   "metadata": {
    "collapsed": true
   },
   "outputs": [],
   "source": [
    "x = tf.placeholder(tf.float32, shape = (None, n_inputs), name = \"X\")\n",
    "y = tf.placeholder(tf.float32, shape = (None), name = \"Y\")\n",
    "training = tf.placeholder_with_default(False, shape=(), name='training')\n",
    "\n",
    "dropout_rate = 0.5\n",
    "x_drop = tf.layers.dropout(x, dropout_rate, training = training)\n",
    "\n",
    "he_init = tf.contrib.layers.variance_scaling_initializer()"
   ]
  },
  {
   "cell_type": "code",
   "execution_count": 16,
   "metadata": {
    "collapsed": true
   },
   "outputs": [],
   "source": [
    "with tf.name_scope(\"dnn\"):\n",
    "    batch_norm = partial(tf.layers.batch_normalization, training = training, momentum = batch_norm_momentum)\n",
    "    dense_layer = partial(tf.layers.dense, kernel_initializer = he_init)\n",
    "    \n",
    "    hidden1 = dense_layer(x_drop, n_hidden1, name = \"hidden1\")\n",
    "    bNorm1 = switch(batch_norm(hidden1))\n",
    "    hidden1_drop = tf.layers.dropout(bNorm1,dropout_rate, training = training)\n",
    "    \n",
    "    hidden2 = dense_layer(hidden1_drop, n_hidden2, name = \"hidden2\")\n",
    "    bNorm2 = switch(batch_norm(hidden2))\n",
    "    hidden2_drop = tf.layers.dropout(bNorm2,dropout_rate, training = training)\n",
    "    \n",
    "    hidden3 = dense_layer(hidden2_drop, n_hidden3, activation = switch, kernel_initializer = he_init, name = \"hidden3\")\n",
    "    bNorm3 = switch(batch_norm(hidden3))\n",
    "    hidden3_drop = tf.layers.dropout(bNorm3,dropout_rate, training = training)\n",
    "    \n",
    "    output = tf.layers.dense(hidden3_drop, n_output, activation = None, name = \"output\")"
   ]
  },
  {
   "cell_type": "markdown",
   "metadata": {
    "collapsed": true
   },
   "source": [
    "注意上面 dense 裡前兩個參數的填寫方式"
   ]
  },
  {
   "cell_type": "code",
   "execution_count": 17,
   "metadata": {
    "collapsed": true
   },
   "outputs": [],
   "source": [
    "with tf.name_scope(\"MSE\"):\n",
    "    error = output - y\n",
    "    mse = tf.reduce_mean(tf.square(error))"
   ]
  },
  {
   "cell_type": "code",
   "execution_count": 18,
   "metadata": {
    "collapsed": true
   },
   "outputs": [],
   "source": [
    "learning_rate = 0.01\n",
    "\n",
    "with tf.name_scope(\"train\"):\n",
    "    optimizer = tf.train.AdamOptimizer(learning_rate = learning_rate)\n",
    "    training_op = optimizer.minimize(mse)"
   ]
  },
  {
   "cell_type": "code",
   "execution_count": 19,
   "metadata": {
    "collapsed": true
   },
   "outputs": [],
   "source": [
    "init = tf.global_variables_initializer()\n",
    "saver = tf.train.Saver()\n",
    "\n",
    "mse_summary = tf.summary.scalar('mse', mse)\n",
    "file_writer = tf.summary.FileWriter(logdir, tf.get_default_graph())"
   ]
  },
  {
   "cell_type": "code",
   "execution_count": 21,
   "metadata": {},
   "outputs": [
    {
     "name": "stdout",
     "output_type": "stream",
     "text": [
      "Epoch 0 MSE = 2.64127\n",
      "Epoch 100 MSE = 1.94588\n",
      "Epoch 200 MSE = 1.93888\n",
      "Epoch 300 MSE = 1.93317\n",
      "Epoch 400 MSE = 1.92169\n",
      "Epoch 500 MSE = 1.91976\n",
      "Epoch 600 MSE = 1.91211\n",
      "Epoch 700 MSE = 1.90151\n",
      "Epoch 800 MSE = 1.90434\n",
      "Epoch 900 MSE = 1.89635\n",
      "Final train mse =  1.90066\n",
      "Final test mse =  0.640801\n"
     ]
    }
   ],
   "source": [
    "n_epoch = 1000\n",
    "\n",
    "extra_update_ops = tf.get_collection(tf.GraphKeys.UPDATE_OPS)\n",
    "\n",
    "with tf.Session() as sess:\n",
    "    sess.run(init)\n",
    "\n",
    "    for epoch in range(n_epoch):\n",
    "        if epoch % 100 == 0:\n",
    "            current_mse = mse_summary.eval(feed_dict={x: x_train, y: y_train})\n",
    "            file_writer.add_summary(current_mse, epoch)\n",
    "            \n",
    "            print(\"Epoch\", epoch, \"MSE =\", mse.eval(feed_dict={x: x_train, y: y_train}))\n",
    "            \n",
    "            save_path = saver.save(sess, \"./CL_dnn_save/temple_sample_model.ckpt\")\n",
    "        \n",
    "        sess.run([training_op, extra_update_ops], feed_dict={training: True, x: x_train, y: y_train})\n",
    "        \n",
    "   \n",
    "    CL_dnn_train_mse = mse.eval(feed_dict={x: x_train, y: y_train})\n",
    "    CL_dnn_train_error = error.eval(feed_dict={x: x_train, y: y_train})\n",
    "    \n",
    "    CL_dnn_test_mse = mse.eval(feed_dict={x: x_test, y: y_test})\n",
    "    CL_dnn_test_error = error.eval(feed_dict={x: x_test, y: y_test})\n",
    "    \n",
    "    print(\"Final train mse = \", CL_dnn_train_mse)\n",
    "    print(\"Final test mse = \", CL_dnn_test_mse)\n",
    "\n",
    "    final_save_path = saver.save(sess, \"./CL_dnn_save/final_sample_model.ckpt\")"
   ]
  },
  {
   "cell_type": "code",
   "execution_count": 22,
   "metadata": {},
   "outputs": [
    {
     "name": "stdout",
     "output_type": "stream",
     "text": [
      "1.37739\n",
      "0.795958\n"
     ]
    }
   ],
   "source": [
    "print(CL_dnn_train_error.std())\n",
    "print(CL_dnn_test_error.std())"
   ]
  },
  {
   "cell_type": "code",
   "execution_count": 23,
   "metadata": {},
   "outputs": [
    {
     "data": {
      "text/plain": [
       "['hidden1/kernel:0',\n",
       " 'hidden1/bias:0',\n",
       " 'batch_normalization/beta:0',\n",
       " 'batch_normalization/gamma:0',\n",
       " 'batch_normalization/moving_mean:0',\n",
       " 'batch_normalization/moving_variance:0',\n",
       " 'hidden2/kernel:0',\n",
       " 'hidden2/bias:0',\n",
       " 'batch_normalization_1/beta:0',\n",
       " 'batch_normalization_1/gamma:0',\n",
       " 'batch_normalization_1/moving_mean:0',\n",
       " 'batch_normalization_1/moving_variance:0',\n",
       " 'hidden3/kernel:0',\n",
       " 'hidden3/bias:0',\n",
       " 'batch_normalization_2/beta:0',\n",
       " 'batch_normalization_2/gamma:0',\n",
       " 'batch_normalization_2/moving_mean:0',\n",
       " 'batch_normalization_2/moving_variance:0',\n",
       " 'output/kernel:0',\n",
       " 'output/bias:0',\n",
       " 'train/beta1_power:0',\n",
       " 'train/beta2_power:0',\n",
       " 'hidden1/kernel/Adam:0',\n",
       " 'hidden1/kernel/Adam_1:0',\n",
       " 'hidden1/bias/Adam:0',\n",
       " 'hidden1/bias/Adam_1:0',\n",
       " 'batch_normalization/beta/Adam:0',\n",
       " 'batch_normalization/beta/Adam_1:0',\n",
       " 'batch_normalization/gamma/Adam:0',\n",
       " 'batch_normalization/gamma/Adam_1:0',\n",
       " 'hidden2/kernel/Adam:0',\n",
       " 'hidden2/kernel/Adam_1:0',\n",
       " 'hidden2/bias/Adam:0',\n",
       " 'hidden2/bias/Adam_1:0',\n",
       " 'batch_normalization_1/beta/Adam:0',\n",
       " 'batch_normalization_1/beta/Adam_1:0',\n",
       " 'batch_normalization_1/gamma/Adam:0',\n",
       " 'batch_normalization_1/gamma/Adam_1:0',\n",
       " 'hidden3/kernel/Adam:0',\n",
       " 'hidden3/kernel/Adam_1:0',\n",
       " 'hidden3/bias/Adam:0',\n",
       " 'hidden3/bias/Adam_1:0',\n",
       " 'batch_normalization_2/beta/Adam:0',\n",
       " 'batch_normalization_2/beta/Adam_1:0',\n",
       " 'batch_normalization_2/gamma/Adam:0',\n",
       " 'batch_normalization_2/gamma/Adam_1:0',\n",
       " 'output/kernel/Adam:0',\n",
       " 'output/kernel/Adam_1:0',\n",
       " 'output/bias/Adam:0',\n",
       " 'output/bias/Adam_1:0']"
      ]
     },
     "execution_count": 23,
     "metadata": {},
     "output_type": "execute_result"
    }
   ],
   "source": [
    "[variable.name for variable in tf.global_variables()]"
   ]
  },
  {
   "cell_type": "code",
   "execution_count": null,
   "metadata": {
    "collapsed": true
   },
   "outputs": [],
   "source": [
    "**** Using trained network: ****\n",
    "\n",
    "**** reuse the construct phase but change the excution phase ****\n",
    "\n",
    "x_to_predict = ......\n",
    "\n",
    "with tf.Session() as sess:\n",
    "    saver.restore(sess, \"./CL_dnn_save/final_sample_model.ckpt\")\n",
    "    y_predict = output.eval(feed_dict={x: x_to_predict})\n",
    "    print(y_predict)"
   ]
  }
 ],
 "metadata": {
  "kernelspec": {
   "display_name": "Python 3",
   "language": "python",
   "name": "python3"
  },
  "language_info": {
   "codemirror_mode": {
    "name": "ipython",
    "version": 3
   },
   "file_extension": ".py",
   "mimetype": "text/x-python",
   "name": "python",
   "nbconvert_exporter": "python",
   "pygments_lexer": "ipython3",
   "version": "3.5.3"
  }
 },
 "nbformat": 4,
 "nbformat_minor": 2
}
